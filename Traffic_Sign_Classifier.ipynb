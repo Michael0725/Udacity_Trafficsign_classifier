{
 "cells": [
  {
   "cell_type": "markdown",
   "metadata": {},
   "source": [
    "# Self-Driving Car Engineer Nanodegree\n",
    "\n",
    "## Deep Learning\n",
    "\n",
    "## Project: Build a Traffic Sign Recognition Classifier\n",
    "\n",
    "In this notebook, a template is provided for you to implement your functionality in stages, which is required to successfully complete this project. If additional code is required that cannot be included in the notebook, be sure that the Python code is successfully imported and included in your submission if necessary. \n",
    "\n",
    "> **Note**: Once you have completed all of the code implementations, you need to finalize your work by exporting the iPython Notebook as an HTML document. Before exporting the notebook to html, all of the code cells need to have been run so that reviewers can see the final implementation and output. You can then export the notebook by using the menu above and navigating to  \\n\",\n",
    "    \"**File -> Download as -> HTML (.html)**. Include the finished document along with this notebook as your submission. \n",
    "\n",
    "In addition to implementing code, there is a writeup to complete. The writeup should be completed in a separate file, which can be either a markdown file or a pdf document. There is a [write up template](https://github.com/udacity/CarND-Traffic-Sign-Classifier-Project/blob/master/writeup_template.md) that can be used to guide the writing process. Completing the code template and writeup template will cover all of the [rubric points](https://review.udacity.com/#!/rubrics/481/view) for this project.\n",
    "\n",
    "The [rubric](https://review.udacity.com/#!/rubrics/481/view) contains \"Stand Out Suggestions\" for enhancing the project beyond the minimum requirements. The stand out suggestions are optional. If you decide to pursue the \"stand out suggestions\", you can include the code in this Ipython notebook and also discuss the results in the writeup file.\n",
    "\n",
    "\n",
    ">**Note:** Code and Markdown cells can be executed using the **Shift + Enter** keyboard shortcut. In addition, Markdown cells can be edited by typically double-clicking the cell to enter edit mode."
   ]
  },
  {
   "cell_type": "markdown",
   "metadata": {},
   "source": [
    "---\n",
    "## Step 0: Load The Data"
   ]
  },
  {
   "cell_type": "code",
   "execution_count": 3,
   "metadata": {},
   "outputs": [
    {
     "name": "stdout",
     "output_type": "stream",
     "text": [
      "5\n"
     ]
    }
   ],
   "source": [
    "# Load pickled data\n",
    "#import the necessary libraries\n",
    "import pickle\n",
    "import tensorflow as tf\n",
    "import numpy as np\n",
    "\n",
    "# TODO: Fill this in based on where you saved the training and testing data\n",
    "\n",
    "training_file = 'train.p'\n",
    "validation_file='valid.p'\n",
    "testing_file = 'test.p'\n",
    "\n",
    "with open(training_file, mode='rb') as f:\n",
    "    train = pickle.load(f)\n",
    "with open(validation_file, mode='rb') as f:\n",
    "    valid = pickle.load(f)\n",
    "with open(testing_file, mode='rb') as f:\n",
    "    test = pickle.load(f)\n",
    "    \n",
    "X_train, y_train = train['features'], train['labels']\n",
    "X_valid, y_valid = valid['features'], valid['labels']\n",
    "X_test, y_test = test['features'], test['labels']\n",
    "\n",
    "##Use the last 5 pics in the test data set as the 5 pics download from the internet\n",
    "X_test , y_test = X_test[0:-5],y_test[0:-5]\n",
    "New_test_pic,New_test_pic_label = X_test[-5:len(X_test)],y_test[-5:len(y_test)]\n",
    "print (len(New_test_pic))\n"
   ]
  },
  {
   "cell_type": "markdown",
   "metadata": {},
   "source": [
    "### Provide a Basic Summary of the Data Set Using Python, Numpy and/or Pandas"
   ]
  },
  {
   "cell_type": "code",
   "execution_count": 4,
   "metadata": {},
   "outputs": [
    {
     "name": "stdout",
     "output_type": "stream",
     "text": [
      "Number of training examples = 34799\n",
      "Number of testing examples = 12625\n",
      "Number of validation examples = 4410\n",
      "Image data shape = (32, 32, 3)\n",
      "Number of classes = 43\n",
      "Test_data_shape= (12625, 32, 32, 3)\n"
     ]
    }
   ],
   "source": [
    "### Replace each question mark with the appropriate value. \n",
    "### Use python, pandas or numpy methods rather than hard coding the results\n",
    "\n",
    "# TODO: Number of training examples\n",
    "n_train = len(X_train)\n",
    "\n",
    "# TODO: Number of validation examples\n",
    "n_validation =len(X_valid)\n",
    "\n",
    "# TODO: Number of testing examples.\n",
    "n_test = len(X_test)\n",
    "\n",
    "# TODO: What's the shape of an traffic sign image?\n",
    "image_shape =X_train[0].shape\n",
    "\n",
    "# TODO: How many unique classes/labels there are in the dataset.\n",
    "n_classes = len(set(y_train))\n",
    "\n",
    "print(\"Number of training examples =\", n_train)\n",
    "print(\"Number of testing examples =\", n_test)\n",
    "print(\"Number of validation examples =\", n_validation)\n",
    "print(\"Image data shape =\", image_shape)\n",
    "print(\"Number of classes =\", n_classes)\n",
    "print ('Test_data_shape=',X_test.shape)"
   ]
  },
  {
   "cell_type": "markdown",
   "metadata": {},
   "source": [
    "### Include an exploratory visualization of the dataset"
   ]
  },
  {
   "cell_type": "markdown",
   "metadata": {},
   "source": [
    "Visualize the German Traffic Signs Dataset using the pickled file(s). This is open ended, suggestions include: plotting traffic sign images, plotting the count of each sign, etc. \n",
    "\n",
    "The [Matplotlib](http://matplotlib.org/) [examples](http://matplotlib.org/examples/index.html) and [gallery](http://matplotlib.org/gallery.html) pages are a great resource for doing visualizations in Python.\n",
    "\n",
    "**NOTE:** It's recommended you start with something simple first. If you wish to do more, come back to it after you've completed the rest of the sections. It can be interesting to look at the distribution of classes in the training, validation and test set. Is the distribution the same? Are there more examples of some classes than others?"
   ]
  },
  {
   "cell_type": "code",
   "execution_count": 5,
   "metadata": {
    "scrolled": true
   },
   "outputs": [
    {
     "data": {
      "text/plain": [
       "<matplotlib.figure.Figure at 0x7fae3f945550>"
      ]
     },
     "metadata": {},
     "output_type": "display_data"
    },
    {
     "data": {
      "text/plain": [
       "<matplotlib.figure.Figure at 0x7fae3f945588>"
      ]
     },
     "metadata": {},
     "output_type": "display_data"
    }
   ],
   "source": [
    "### Data exploration visualization code goes here.\n",
    "### Feel free to use as many code cells as needed.\n",
    "import matplotlib.pyplot as plt\n",
    "plt.figure()\n",
    "for class_idx in range(n_classes):\n",
    "    cur_X = X_train[y_train ==class_idx]\n",
    "    cur_img = cur_X[np.random.randint(len(cur_X))]\n",
    "    ax = plt.subplot(4,12,class_idx+1)\n",
    "    plt.imshow(cur_img)\n",
    "    ax.set_title('{:02d}'.format(class_idx))\n",
    "    plt.xticks(())\n",
    "    plt.yticks(())\n",
    "\n",
    "\n",
    "plt.figure()\n",
    "train_distribution,test_distribution = np.zeros(n_classes),np.zeros(n_classes)    \n",
    "for id in range(n_classes):\n",
    "    train_distribution[id]=np.sum(y_train ==id)/n_train\n",
    "    test_distribution[id] =np.sum(y_test ==id)/n_test\n",
    "col_width = 0.5\n",
    "bar_train = plt.bar(np.arange(n_classes),train_distribution,width = col_width,color = 'r')\n",
    "bar_test =plt.bar(np.arange(n_classes)+col_width,test_distribution,width = col_width,color = 'b')\n",
    "plt.ylabel('PERCENTAGE OF PRESENCE')\n",
    "plt.xlabel('CLASS LABEL')\n",
    "plt.title('Traffic Sign Distribution')\n",
    "plt.xlim(0,45)\n",
    "plt.ylim(0,0.06)\n",
    "plt.legend((bar_train[0],bar_test[0]),('train set','test set'))\n",
    "plt.show()\n",
    "plt.show()\n",
    "\n",
    "# Visualizations will be shown in the notebook.\n",
    "%matplotlib inline"
   ]
  },
  {
   "cell_type": "markdown",
   "metadata": {},
   "source": [
    "----\n",
    "\n",
    "## Step 2: Design and Test a Model Architecture\n",
    "\n",
    "Design and implement a deep learning model that learns to recognize traffic signs. Train and test your model on the [German Traffic Sign Dataset](http://benchmark.ini.rub.de/?section=gtsrb&subsection=dataset).\n",
    "\n",
    "The LeNet-5 implementation shown in the [classroom](https://classroom.udacity.com/nanodegrees/nd013/parts/fbf77062-5703-404e-b60c-95b78b2f3f9e/modules/6df7ae49-c61c-4bb2-a23e-6527e69209ec/lessons/601ae704-1035-4287-8b11-e2c2716217ad/concepts/d4aca031-508f-4e0b-b493-e7b706120f81) at the end of the CNN lesson is a solid starting point. You'll have to change the number of classes and possibly the preprocessing, but aside from that it's plug and play! \n",
    "\n",
    "With the LeNet-5 solution from the lecture, you should expect a validation set accuracy of about 0.89. To meet specifications, the validation set accuracy will need to be at least 0.93. It is possible to get an even higher accuracy, but 0.93 is the minimum for a successful project submission. \n",
    "\n",
    "There are various aspects to consider when thinking about this problem:\n",
    "\n",
    "- Neural network architecture (is the network over or underfitting?)\n",
    "- Play around preprocessing techniques (normalization, rgb to grayscale, etc)\n",
    "- Number of examples per label (some have more than others).\n",
    "- Generate fake data.\n",
    "\n",
    "Here is an example of a [published baseline model on this problem](http://yann.lecun.com/exdb/publis/pdf/sermanet-ijcnn-11.pdf). It's not required to be familiar with the approach used in the paper but, it's good practice to try to read papers like these."
   ]
  },
  {
   "cell_type": "markdown",
   "metadata": {},
   "source": [
    "### Pre-process the Data Set (normalization, grayscale, etc.)"
   ]
  },
  {
   "cell_type": "markdown",
   "metadata": {},
   "source": [
    "Minimally, the image data should be normalized so that the data has mean zero and equal variance. For image data, `(pixel - 128)/ 128` is a quick way to approximately normalize the data and can be used in this project. \n",
    "\n",
    "Other pre-processing steps are optional. You can try different techniques to see if it improves performance. \n",
    "\n",
    "Use the code cell (or multiple code cells, if necessary) to implement the first step of your project."
   ]
  },
  {
   "cell_type": "markdown",
   "metadata": {},
   "source": [
    "through shift and rotate the pics in X_train data, to expand the size of X_train_data to 5 times of origin\n",
    "The original data size is 34799, after expanding the size turn to 173995"
   ]
  },
  {
   "cell_type": "code",
   "execution_count": 6,
   "metadata": {},
   "outputs": [
    {
     "name": "stdout",
     "output_type": "stream",
     "text": [
      "Number of training examples = 173995\n",
      "Number of testing examples = 12625\n",
      "Image data shape = (32, 32, 1)\n",
      "Number of classes = 43\n"
     ]
    }
   ],
   "source": [
    "### Preprocess the data here. It is required to normalize the data. Other preprocessing steps could include \n",
    "### converting to grayscale, etc.\n",
    "### Feel free to use as many code cells as needed.\n",
    "\n",
    "from scipy import ndimage\n",
    "import cv2\n",
    "\n",
    "###Normaliaze the data\n",
    "def normalize_images(image_data):\n",
    "    return (image_data/255.)\n",
    "X_train = normalize_images(X_train)\n",
    "X_valid = normalize_images(X_valid)\n",
    "X_test = normalize_images(X_test)\n",
    "\n",
    "\n",
    "###Change the pics to gray style \n",
    "def gray_scale(X):\n",
    "    X = np.sum(X/3,axis =3, keepdims = True)\n",
    "    return X\n",
    "\n",
    "X_train = gray_scale(X_train)\n",
    "X_valid = gray_scale(X_valid)\n",
    "X_test = gray_scale(X_test)\n",
    "\n",
    "##Change the order of the training data to prevent the model to learn the structure and order of the training data \n",
    "from sklearn.utils import shuffle\n",
    "X_train, y_train = shuffle(X_train, y_train)\n",
    "\n",
    "import tensorflow as tf\n",
    "\n",
    "##expand the training data to 5 times scale by using shifting and rotating \n",
    "def expend_training_data(train_x, train_y):\n",
    "    \"\"\"\n",
    "    Augment training data\n",
    "    \"\"\"\n",
    "    expanded_images = np.zeros([train_x.shape[0] * 5, train_x.shape[1], train_x.shape[2]])\n",
    "    expanded_labels = np.zeros([train_x.shape[0] * 5])\n",
    "\n",
    "    counter = 0\n",
    "    for x, y in zip(train_x, train_y):\n",
    "\n",
    "        # register original data\n",
    "        expanded_images[counter, :, :] = x\n",
    "        expanded_labels[counter] = y\n",
    "        counter = counter + 1\n",
    "\n",
    "        # get a value for the background\n",
    "        # zero is the expected value, but median() is used to estimate background's value\n",
    "        bg_value = np.median(x)  # this is regarded as background's value\n",
    "\n",
    "        for i in range(4):\n",
    "            # rotate the image with random degree\n",
    "            angle = np.random.randint(-15, 15, 1)\n",
    "            new_img = ndimage.rotate(x, angle, reshape=False, cval=bg_value)\n",
    "\n",
    "            # shift the image with random distance\n",
    "            shift = np.random.randint(-2, 2, 2)\n",
    "            new_img_ = ndimage.shift(new_img, shift, cval=bg_value)\n",
    "\n",
    "            # register new training data\n",
    "            expanded_images[counter, :, :] = new_img_\n",
    "            expanded_labels[counter] = y\n",
    "            counter = counter + 1\n",
    "\n",
    "    return expanded_images, expanded_labels\n",
    "\n",
    "##Reshape the X_train data to fit the expand method\n",
    "X_train = np.reshape(X_train,(-1, 32, 32))\n",
    "X_train, y_train = expend_training_data(X_train, y_train)\n",
    "\n",
    "##Change the X_train data shape back\n",
    "X_train = np.reshape(X_train,[-1,32,32,1])\n",
    "\n",
    "n_train = len(X_train)\n",
    "n_classes = len(set(y_train))\n",
    "n_test = len(X_test)\n",
    "image_shape = X_train[0].shape\n",
    "\n",
    "\n",
    "print(\"Number of training examples =\", n_train)\n",
    "print(\"Number of testing examples =\", n_test)\n",
    "print(\"Image data shape =\", image_shape)\n",
    "print(\"Number of classes =\", n_classes)"
   ]
  },
  {
   "cell_type": "markdown",
   "metadata": {},
   "source": [
    "### Model Architecture"
   ]
  },
  {
   "cell_type": "markdown",
   "metadata": {},
   "source": [
    "Using the blocks below, we defined the epochs to 10 and the batch size to 128\n",
    "The neural net work architecture is as follow:\n",
    "Input:\n",
    "    32x32x1\n",
    "Layer1：\n",
    "    Convolutional matrix: 5x5x1x64    →   28x28x64\n",
    "    Relu to activate the nods\n",
    "    Max pooling : 1x2x2x1          →   14x14x64\n",
    "Layer2: \n",
    "    Convolutional matrix: 5x5x64x128   →   10x10x128\n",
    "    Relu to activate the nods\n",
    "    Max pooling : 1x2x2x1           →   5x5x128\n",
    "Layer3:\n",
    "    Flatten the layer:　5x5x128  → 3200\n",
    "layer4: \n",
    "    Full connected layer 3200   →512\n",
    "    Relu to activate the nods\n",
    "    Dropout layer\n",
    "layer5:\n",
    "    Full connected layer 512  →  120\n",
    "    Relu to activate the nods\n",
    "    Dropout layer\n",
    "Last layer:\n",
    "    Full connected layer 120  →  43\n",
    "    return the result of logits\n",
    "    "
   ]
  },
  {
   "cell_type": "code",
   "execution_count": 7,
   "metadata": {},
   "outputs": [],
   "source": [
    "### Define your architecture here.\n",
    "### Feel free to use as many code cells as needed.\n",
    "EPOCHS = 10\n",
    "BATCH_SIZE = 128\n",
    "from tensorflow.contrib.layers import flatten\n",
    "def mynet(image_data):\n",
    "    mu = 0\n",
    "    sigma = 0.1\n",
    "    keep_prob = 0.5\n",
    "    \n",
    "    #  Layer 1: Convolutional. Input = 32x32x1. Output = 28x28x64.\n",
    "    conv1_W = tf.Variable(tf.truncated_normal(shape=(5, 5, 1, 64), mean = mu, stddev = sigma))\n",
    "    conv1_b = tf.Variable(tf.zeros(64))\n",
    "    conv1   = tf.nn.conv2d(x, conv1_W, strides=[1, 1, 1, 1], padding='VALID') + conv1_b\n",
    "    #  Activation.\n",
    "    conv1 = tf.nn.relu(conv1)\n",
    "    # Pooling. Input = 28x28x64. Output = 14x14x64.\n",
    "    conv1 = tf.nn.max_pool(conv1, ksize=[1, 2, 2, 1], strides=[1, 2, 2, 1], padding='VALID')\n",
    "    \n",
    "    # Layer 2: Convolutional. Output = 10x10x16.\n",
    "    conv2_W = tf.Variable(tf.truncated_normal(shape=(5, 5, 64, 128), mean = mu, stddev = sigma))\n",
    "    conv2_b = tf.Variable(tf.zeros(128))\n",
    "    conv2   = tf.nn.conv2d(conv1, conv2_W, strides=[1, 1, 1, 1], padding='VALID') + conv2_b\n",
    "    \n",
    "    # Activation.\n",
    "    conv2 = tf.nn.relu(conv2)\n",
    "\n",
    "    # Pooling. Input = 10x10x128. Output = 5x5x128.\n",
    "    conv2 = tf.nn.max_pool(conv2, ksize=[1, 2, 2, 1], strides=[1, 2, 2, 1], padding='VALID')\n",
    "\n",
    "    # Flatten. Input = 5x5x128. Output = 3200.\n",
    "    fc0   = flatten(conv2)\n",
    "    \n",
    "    # Layer 3: Fully Connected. Input = 3200. Output = 512.\n",
    "    fc1_W = tf.Variable(tf.truncated_normal(shape=(3200, 512), mean = mu, stddev = sigma))\n",
    "    fc1_b = tf.Variable(tf.zeros(512))\n",
    "    fc1   = tf.matmul(fc0, fc1_W) + fc1_b\n",
    "    \n",
    "    # Activation.\n",
    "    fc1    = tf.nn.relu(fc1)\n",
    "    \n",
    "    #Drop out\n",
    "    fc1    =tf.nn.dropout(fc1,keep_prob)\n",
    "\n",
    "    # Layer 4: Fully Connected. Input = 512. Output = 120.\n",
    "    fc2_W  = tf.Variable(tf.truncated_normal(shape=(512, 120), mean = mu, stddev = sigma))\n",
    "    fc2_b  = tf.Variable(tf.zeros(120))\n",
    "    fc2    = tf.matmul(fc1, fc2_W) + fc2_b\n",
    "    \n",
    "    # Activation.\n",
    "    fc2    = tf.nn.relu(fc2)\n",
    "    fc2    = tf.nn.dropout(fc2,keep_prob)\n",
    "\n",
    "    # Layer 5: Fully Connected. Input = 120   Output = 43.\n",
    "    fc3_W  = tf.Variable(tf.truncated_normal(shape=(120, 43), mean = mu, stddev = sigma))\n",
    "    fc3_b  = tf.Variable(tf.zeros(43))\n",
    "    logits = tf.matmul(fc2, fc3_W) + fc3_b\n",
    "    \n",
    "    return logits\n",
    "    "
   ]
  },
  {
   "cell_type": "markdown",
   "metadata": {},
   "source": [
    "### Train, Validate and Test the Model"
   ]
  },
  {
   "cell_type": "markdown",
   "metadata": {},
   "source": [
    "A validation set can be used to assess how well the model is performing. A low accuracy on the training and validation\n",
    "sets imply underfitting. A high accuracy on the training set but low accuracy on the validation set implies overfitting."
   ]
  },
  {
   "cell_type": "markdown",
   "metadata": {},
   "source": [
    "Using the traing data to train the defined neural network\n",
    "The training accuracy arrived to about 99.6%\n",
    "The validation accuracy arrived to about 97.4%\n",
    "The testing accuracy arrived to    96.1"
   ]
  },
  {
   "cell_type": "code",
   "execution_count": 8,
   "metadata": {},
   "outputs": [
    {
     "name": "stdout",
     "output_type": "stream",
     "text": [
      "Training...\n",
      "\n",
      "EPOCH 1 ...\n",
      "Training Accuracy = 0.930\n",
      "Validation Accuracy = 0.900\n",
      "\n",
      "EPOCH 2 ...\n",
      "Training Accuracy = 0.968\n",
      "Validation Accuracy = 0.946\n",
      "\n",
      "EPOCH 3 ...\n",
      "Training Accuracy = 0.984\n",
      "Validation Accuracy = 0.960\n",
      "\n",
      "EPOCH 4 ...\n",
      "Training Accuracy = 0.988\n",
      "Validation Accuracy = 0.965\n",
      "\n",
      "EPOCH 5 ...\n",
      "Training Accuracy = 0.989\n",
      "Validation Accuracy = 0.957\n",
      "\n",
      "EPOCH 6 ...\n",
      "Training Accuracy = 0.992\n",
      "Validation Accuracy = 0.968\n",
      "\n",
      "EPOCH 7 ...\n",
      "Training Accuracy = 0.990\n",
      "Validation Accuracy = 0.962\n",
      "\n",
      "EPOCH 8 ...\n",
      "Training Accuracy = 0.993\n",
      "Validation Accuracy = 0.971\n",
      "\n",
      "EPOCH 9 ...\n",
      "Training Accuracy = 0.993\n",
      "Validation Accuracy = 0.963\n",
      "\n",
      "EPOCH 10 ...\n",
      "Training Accuracy = 0.993\n",
      "Validation Accuracy = 0.968\n",
      "\n",
      "Test Accuracy = 0.955\n",
      "Model saved\n"
     ]
    }
   ],
   "source": [
    "### features and labels here\n",
    "x = tf.placeholder(tf.float32, (None, 32, 32, 1))\n",
    "y = tf.placeholder(tf.int32, (None))\n",
    "one_hot_y = tf.one_hot(y, 43)\n",
    "\n",
    "### Train your model here.\n",
    "rate = 0.001\n",
    "logits = mynet(x)\n",
    "prediction = tf.nn.softmax(logits)\n",
    "cross_entropy = tf.nn.softmax_cross_entropy_with_logits(labels=one_hot_y, logits=logits)\n",
    "loss_operation = tf.reduce_mean(cross_entropy)\n",
    "optimizer = tf.train.AdamOptimizer(learning_rate = rate)\n",
    "training_operation = optimizer.minimize(loss_operation)\n",
    "\n",
    "correct_prediction = tf.equal(tf.argmax(logits, 1), tf.argmax(one_hot_y, 1))\n",
    "accuracy_operation = tf.reduce_mean(tf.cast(correct_prediction, tf.float32))\n",
    "saver = tf.train.Saver()\n",
    "\n",
    "### Calculate and report the accuracy on the training and validation set.\n",
    "def evaluate(X_data, y_data):\n",
    "    num_examples = len(X_data)\n",
    "    total_accuracy = 0\n",
    "    sess = tf.get_default_session()\n",
    "    for offset in range(0, num_examples, BATCH_SIZE):\n",
    "        batch_x, batch_y = X_data[offset:offset+BATCH_SIZE], y_data[offset:offset+BATCH_SIZE]\n",
    "        accuracy = sess.run(accuracy_operation, feed_dict={x: batch_x, y: batch_y})\n",
    "        total_accuracy += (accuracy * len(batch_x))\n",
    "    return total_accuracy / num_examples\n",
    "\n",
    "with tf.Session() as sess:\n",
    "    sess.run(tf.global_variables_initializer())\n",
    "    num_examples = len(X_train)\n",
    "    \n",
    "    print(\"Training...\")\n",
    "    print()\n",
    "    for i in range(EPOCHS):\n",
    "        X_train, y_train = shuffle(X_train, y_train)\n",
    "        for offset in range(0, num_examples, BATCH_SIZE):\n",
    "            end = offset + BATCH_SIZE\n",
    "            batch_x, batch_y = X_train[offset:end], y_train[offset:end]\n",
    "            sess.run(training_operation, feed_dict={x: batch_x, y: batch_y})\n",
    "        training_accuracy = evaluate(X_train, y_train)   \n",
    "        validation_accuracy = evaluate(X_valid, y_valid)\n",
    "        print(\"EPOCH {} ...\".format(i+1))\n",
    "        print(\"Training Accuracy = {:.3f}\".format(training_accuracy))\n",
    "        print(\"Validation Accuracy = {:.3f}\".format(validation_accuracy))\n",
    "        print()\n",
    "    \n",
    "    test_accuracy = evaluate(X_test,y_test)\n",
    "    print(\"Test Accuracy = {:.3f}\".format(test_accuracy))\n",
    "        \n",
    "    saver.save(sess, './lenet')\n",
    "    print(\"Model saved\")\n",
    "### Once a final model architecture is selected, \n",
    "### the accuracy on the test set should be calculated and reported as well.\n",
    "### Feel free to use as many code cells as needed."
   ]
  },
  {
   "cell_type": "markdown",
   "metadata": {},
   "source": [
    "---\n",
    "\n",
    "## Step 3: Test a Model on New Images\n",
    "\n",
    "To give yourself more insight into how your model is working, download at least five pictures of German traffic signs from the web and use your model to predict the traffic sign type.\n",
    "\n",
    "You may find `signnames.csv` useful as it contains mappings from the class id (integer) to the actual sign name."
   ]
  },
  {
   "cell_type": "markdown",
   "metadata": {},
   "source": [
    "### Load and Output the Images"
   ]
  },
  {
   "cell_type": "markdown",
   "metadata": {},
   "source": [
    "This part use the last five pics of the test set to visualize the prediction of the neuralnetwork.\n",
    "1.I load the image and plot them \n",
    "2.Then I use the pandas to read the csv file to print the class name of the 43 kinds of traffic signs\n",
    "3.Get the real class name of the last 5 pics of testing data \n"
   ]
  },
  {
   "cell_type": "code",
   "execution_count": 9,
   "metadata": {},
   "outputs": [
    {
     "name": "stdout",
     "output_type": "stream",
     "text": [
      "The class name  = 0                                  Speed limit (20km/h)\n",
      "1                                  Speed limit (30km/h)\n",
      "2                                  Speed limit (50km/h)\n",
      "3                                  Speed limit (60km/h)\n",
      "4                                  Speed limit (70km/h)\n",
      "5                                  Speed limit (80km/h)\n",
      "6                           End of speed limit (80km/h)\n",
      "7                                 Speed limit (100km/h)\n",
      "8                                 Speed limit (120km/h)\n",
      "9                                            No passing\n",
      "10         No passing for vehicles over 3.5 metric tons\n",
      "11                Right-of-way at the next intersection\n",
      "12                                        Priority road\n",
      "13                                                Yield\n",
      "14                                                 Stop\n",
      "15                                          No vehicles\n",
      "16             Vehicles over 3.5 metric tons prohibited\n",
      "17                                             No entry\n",
      "18                                      General caution\n",
      "19                          Dangerous curve to the left\n",
      "20                         Dangerous curve to the right\n",
      "21                                         Double curve\n",
      "22                                           Bumpy road\n",
      "23                                        Slippery road\n",
      "24                            Road narrows on the right\n",
      "25                                            Road work\n",
      "26                                      Traffic signals\n",
      "27                                          Pedestrians\n",
      "28                                    Children crossing\n",
      "29                                    Bicycles crossing\n",
      "30                                   Beware of ice/snow\n",
      "31                                Wild animals crossing\n",
      "32                  End of all speed and passing limits\n",
      "33                                     Turn right ahead\n",
      "34                                      Turn left ahead\n",
      "35                                           Ahead only\n",
      "36                                 Go straight or right\n",
      "37                                  Go straight or left\n",
      "38                                           Keep right\n",
      "39                                            Keep left\n",
      "40                                 Roundabout mandatory\n",
      "41                                    End of no passing\n",
      "42    End of no passing by vehicles over 3.5 metric ...\n",
      "Name: SignName, dtype: object\n",
      "The label of last 5 pics of the testing data = [13  5 12 35 25]\n",
      "The class name of last 5 pics of the testing data =  ['Yield', 'Speed limit (80km/h)', 'Priority road', 'Ahead only', 'Road work']\n"
     ]
    },
    {
     "data": {
      "image/png": "[encoded data removed]",
      "text/plain": [
       "<matplotlib.figure.Figure at 0x7fae11791278>"
      ]
     },
     "metadata": {},
     "output_type": "display_data"
    }
   ],
   "source": [
    "### Load the images and plot them here.\n",
    "for i in range(len(New_test_pic)):\n",
    "    plt.subplot(1,5,i+1)\n",
    "    plt.imshow(New_test_pic[i])\n",
    "    plt.xticks(())\n",
    "    plt.yticks(())\n",
    "    \n",
    "    \n",
    "import pandas as pd\n",
    "csv_file = pd.read_csv('signnames.csv')\n",
    "class_name = csv_file['SignName'] \n",
    "\n",
    "\n",
    "class_name_of_last_5pics = []\n",
    "for i in range(len(New_test_pic)):\n",
    "    class_name_of_last_5pics.append(class_name[New_test_pic_label[i]]) \n",
    "print (\"The class name  =\",class_name)\n",
    "print (\"The label of last 5 pics of the testing data =\",New_test_pic_label)\n",
    "print ('The class name of last 5 pics of the testing data = ',class_name_of_last_5pics)\n",
    "\n",
    "\n",
    "\n",
    "\n",
    "### Feel free to use as many code cells as needed."
   ]
  },
  {
   "cell_type": "markdown",
   "metadata": {},
   "source": [
    "### Predict the Sign Type for Each Image and output the top 5 possible class predicted by the network"
   ]
  },
  {
   "cell_type": "markdown",
   "metadata": {},
   "source": [
    "Predict the last 5 pics of the testing data "
   ]
  },
  {
   "cell_type": "code",
   "execution_count": 10,
   "metadata": {},
   "outputs": [
    {
     "name": "stdout",
     "output_type": "stream",
     "text": [
      "INFO:tensorflow:Restoring parameters from ./lenet\n",
      "TopKV2(values=array([[  1.00000000e+00,   3.17098589e-20,   2.60588768e-26,\n",
      "          8.27579993e-28,   1.53060056e-28],\n",
      "       [  1.00000000e+00,   1.93835017e-10,   1.15466762e-18,\n",
      "          2.41125604e-19,   1.07794389e-20],\n",
      "       [  1.00000000e+00,   5.72156177e-11,   3.24924011e-11,\n",
      "          1.37374519e-12,   1.60461786e-14],\n",
      "       [  1.00000000e+00,   2.37745098e-28,   2.08900933e-31,\n",
      "          2.34143717e-38,   0.00000000e+00],\n",
      "       [  9.31595445e-01,   6.84045181e-02,   4.94729153e-11,\n",
      "          2.78316745e-11,   1.58687733e-12]], dtype=float32), indices=array([[13,  2, 12,  9,  3],\n",
      "       [ 5,  7, 10,  4,  1],\n",
      "       [12, 13, 40, 38, 41],\n",
      "       [35, 34,  3, 36,  0],\n",
      "       [25, 11, 20, 30, 27]], dtype=int32))\n",
      "The top 5 possible class predicted by the neuralnetwork of the 1 th picture is\n",
      "\n",
      "13                   Yield\n",
      "2     Speed limit (50km/h)\n",
      "12           Priority road\n",
      "9               No passing\n",
      "3     Speed limit (60km/h)\n",
      "Name: SignName, dtype: object\n",
      "The top 5 possible class predicted by the neuralnetwork of the 2 th picture is\n",
      "\n",
      "5                             Speed limit (80km/h)\n",
      "7                            Speed limit (100km/h)\n",
      "10    No passing for vehicles over 3.5 metric tons\n",
      "4                             Speed limit (70km/h)\n",
      "1                             Speed limit (30km/h)\n",
      "Name: SignName, dtype: object\n",
      "The top 5 possible class predicted by the neuralnetwork of the 3 th picture is\n",
      "\n",
      "12           Priority road\n",
      "13                   Yield\n",
      "40    Roundabout mandatory\n",
      "38              Keep right\n",
      "41       End of no passing\n",
      "Name: SignName, dtype: object\n",
      "The top 5 possible class predicted by the neuralnetwork of the 4 th picture is\n",
      "\n",
      "35              Ahead only\n",
      "34         Turn left ahead\n",
      "3     Speed limit (60km/h)\n",
      "36    Go straight or right\n",
      "0     Speed limit (20km/h)\n",
      "Name: SignName, dtype: object\n",
      "The top 5 possible class predicted by the neuralnetwork of the 5 th picture is\n",
      "\n",
      "25                                Road work\n",
      "11    Right-of-way at the next intersection\n",
      "20             Dangerous curve to the right\n",
      "30                       Beware of ice/snow\n",
      "27                              Pedestrians\n",
      "Name: SignName, dtype: object\n"
     ]
    },
    {
     "data": {
      "image/png": "[encoded data removed]",
      "text/plain": [
       "<matplotlib.figure.Figure at 0x7fadf1f609b0>"
      ]
     },
     "metadata": {
      "needs_background": "light"
     },
     "output_type": "display_data"
    }
   ],
   "source": [
    "### Run the predictions here and use the model to output the prediction for each image.\n",
    "### Make sure to pre-process the images with the same pre-processing pipeline used earlier.\n",
    "### Feel free to use as many code cells as needed.\n",
    "## Calculate the top 5 possible class predicted by the neuralnetwork\n",
    "New_test_pic_norm = normalize_images(New_test_pic)\n",
    "New_test_pic_gray = gray_scale(New_test_pic_norm)\n",
    "with tf.Session() as sess:\n",
    "    saver.restore(sess, './lenet') \n",
    "    predict = sess.run(prediction,feed_dict={x:New_test_pic_gray})\n",
    "    top5 = sess.run(tf.nn.top_k(tf.constant(predict), k=5))\n",
    "print (top5)\n",
    "plt.figure\n",
    "for i in range(len(New_test_pic_gray)):\n",
    "    print ('The top 5 possible class predicted by the neuralnetwork of the',i+1,'th picture is\\n')\n",
    "    print (class_name[top5[1][i]])  \n",
    "    plt.subplot(5,2,2*i+1)\n",
    "    plt.imshow(New_test_pic[i])\n",
    "    plt.xticks(())\n",
    "    plt.yticks(())\n",
    "    plt.subplot(5,2,2*i+2)\n",
    "    plt.bar(csv_file['ClassId'],predict[i])\n",
    "\n",
    "\n",
    "\n",
    "    \n",
    "\n",
    "\n",
    "    \n",
    "\n",
    "\n",
    "   \n",
    "\n",
    "    \n",
    "\n",
    "    \n",
    "\n",
    "\n"
   ]
  },
  {
   "cell_type": "markdown",
   "metadata": {},
   "source": [
    "### Analyze Performance"
   ]
  },
  {
   "cell_type": "code",
   "execution_count": 11,
   "metadata": {},
   "outputs": [
    {
     "name": "stdout",
     "output_type": "stream",
     "text": [
      "Accuracy =  100 %\n"
     ]
    }
   ],
   "source": [
    "### Calculate the accuracy for these 5 new images. \n",
    "### For example, if the model predicted 1 out of 5 signs correctly, it's 20% accurate on these new images.\n",
    "##Calculate the accuracy of the prediction\n",
    "Correct_item = 0\n",
    "for i in range(len(top5[1])):\n",
    "    if New_test_pic_label[i] ==top5[1][i][0]:\n",
    "        Correct_item += 1\n",
    "\n",
    "Accuracy = Correct_item*20\n",
    "print (\"Accuracy = \",Accuracy,'%')\n",
    "    "
   ]
  },
  {
   "cell_type": "markdown",
   "metadata": {},
   "source": [
    "### Use 10 more pics from the internet to test the neuralnetwork"
   ]
  },
  {
   "cell_type": "markdown",
   "metadata": {},
   "source": [
    "#### Load the Data"
   ]
  },
  {
   "cell_type": "code",
   "execution_count": 21,
   "metadata": {},
   "outputs": [
    {
     "data": {
      "image/png": "[encoded data removed]",
      "text/plain": [
       "<matplotlib.figure.Figure at 0x7fae01f63e80>"
      ]
     },
     "metadata": {},
     "output_type": "display_data"
    }
   ],
   "source": [
    "pic_list = ['_50limit.jpg','_60limit.jpg','_80limit.jpg','_100limit.jpg','_first_priority.jpg','_yield.jpg','ahead_only.jpg','end_ofspeed_limit.jpg','_30limit.jpg','stop.jpg']\n",
    "pic_label = [2,3,5,7,12,13,35,6,1,14]\n",
    "test_picture_list = []\n",
    "for i in pic_list:\n",
    "    pic = cv2.imread(i)\n",
    "    test_picture_list.append(pic)\n",
    "test_pic_array = np.array(test_picture_list)\n",
    "normal_pic_array = normalize_images(test_pic_array)\n",
    "gray_pic_array = gray_scale(normal_pic_array)\n",
    "\n",
    "for i in range(len(gray_pic_array)):\n",
    "    plt.subplot(1,10,i+1)\n",
    "    plt.imshow(test_picture_list[i])\n",
    "    plt.xticks(())\n",
    "    plt.yticks(())"
   ]
  },
  {
   "cell_type": "markdown",
   "metadata": {},
   "source": [
    "#### predict the 10 more pics from website"
   ]
  },
  {
   "cell_type": "code",
   "execution_count": 22,
   "metadata": {
    "scrolled": false
   },
   "outputs": [
    {
     "name": "stdout",
     "output_type": "stream",
     "text": [
      "INFO:tensorflow:Restoring parameters from ./lenet\n",
      "TopKV2(values=array([[  9.86446977e-01,   6.84940815e-03,   6.62737945e-03,\n",
      "          4.01652396e-05,   3.00123702e-05],\n",
      "       [  1.00000000e+00,   1.90932852e-22,   1.03500947e-26,\n",
      "          0.00000000e+00,   0.00000000e+00],\n",
      "       [  9.95628357e-01,   1.60216109e-03,   1.59451144e-03,\n",
      "          9.93866124e-04,   8.36227846e-05],\n",
      "       [  9.98588860e-01,   9.41504317e-04,   3.67905974e-04,\n",
      "          9.93663998e-05,   2.22787935e-06],\n",
      "       [  8.63656282e-01,   1.30538091e-01,   2.05109222e-03,\n",
      "          1.90233823e-03,   1.72772270e-03],\n",
      "       [  1.00000000e+00,   0.00000000e+00,   0.00000000e+00,\n",
      "          0.00000000e+00,   0.00000000e+00],\n",
      "       [  1.00000000e+00,   5.21913124e-10,   1.33502953e-12,\n",
      "          6.55375808e-16,   4.20404051e-16],\n",
      "       [  9.04649138e-01,   9.35898870e-02,   9.06705973e-04,\n",
      "          5.10262500e-04,   2.80936889e-04],\n",
      "       [  1.00000000e+00,   1.79036547e-16,   2.84095444e-22,\n",
      "          1.48882409e-24,   3.48707643e-26],\n",
      "       [  1.00000000e+00,   1.77380784e-21,   1.18584121e-22,\n",
      "          5.81932277e-24,   7.65755169e-26]], dtype=float32), indices=array([[ 5, 10,  6,  3, 38],\n",
      "       [ 3,  5,  2,  0,  1],\n",
      "       [ 2,  5,  1,  7, 31],\n",
      "       [ 4,  1,  5,  0,  8],\n",
      "       [12, 11, 25,  3, 30],\n",
      "       [13,  0,  1,  2,  3],\n",
      "       [35, 33,  3, 12, 11],\n",
      "       [13,  2, 39,  3, 14],\n",
      "       [ 1,  0,  5,  2,  6],\n",
      "       [14,  8,  4,  0, 38]], dtype=int32))\n",
      "The top 5 possible class predicted by the neuralnetwork of the 1 th picture is\n",
      "\n",
      "5                             Speed limit (80km/h)\n",
      "10    No passing for vehicles over 3.5 metric tons\n",
      "6                      End of speed limit (80km/h)\n",
      "3                             Speed limit (60km/h)\n",
      "38                                      Keep right\n",
      "Name: SignName, dtype: object\n",
      "The top 5 possible class predicted by the neuralnetwork of the 2 th picture is\n",
      "\n",
      "3    Speed limit (60km/h)\n",
      "5    Speed limit (80km/h)\n",
      "2    Speed limit (50km/h)\n",
      "0    Speed limit (20km/h)\n",
      "1    Speed limit (30km/h)\n",
      "Name: SignName, dtype: object\n",
      "The top 5 possible class predicted by the neuralnetwork of the 3 th picture is\n",
      "\n",
      "2      Speed limit (50km/h)\n",
      "5      Speed limit (80km/h)\n",
      "1      Speed limit (30km/h)\n",
      "7     Speed limit (100km/h)\n",
      "31    Wild animals crossing\n",
      "Name: SignName, dtype: object\n",
      "The top 5 possible class predicted by the neuralnetwork of the 4 th picture is\n",
      "\n",
      "4     Speed limit (70km/h)\n",
      "1     Speed limit (30km/h)\n",
      "5     Speed limit (80km/h)\n",
      "0     Speed limit (20km/h)\n",
      "8    Speed limit (120km/h)\n",
      "Name: SignName, dtype: object\n",
      "The top 5 possible class predicted by the neuralnetwork of the 5 th picture is\n",
      "\n",
      "12                            Priority road\n",
      "11    Right-of-way at the next intersection\n",
      "25                                Road work\n",
      "3                      Speed limit (60km/h)\n",
      "30                       Beware of ice/snow\n",
      "Name: SignName, dtype: object\n",
      "The top 5 possible class predicted by the neuralnetwork of the 6 th picture is\n",
      "\n",
      "13                   Yield\n",
      "0     Speed limit (20km/h)\n",
      "1     Speed limit (30km/h)\n",
      "2     Speed limit (50km/h)\n",
      "3     Speed limit (60km/h)\n",
      "Name: SignName, dtype: object\n",
      "The top 5 possible class predicted by the neuralnetwork of the 7 th picture is\n",
      "\n",
      "35                               Ahead only\n",
      "33                         Turn right ahead\n",
      "3                      Speed limit (60km/h)\n",
      "12                            Priority road\n",
      "11    Right-of-way at the next intersection\n",
      "Name: SignName, dtype: object\n",
      "The top 5 possible class predicted by the neuralnetwork of the 8 th picture is\n",
      "\n",
      "13                   Yield\n",
      "2     Speed limit (50km/h)\n",
      "39               Keep left\n",
      "3     Speed limit (60km/h)\n",
      "14                    Stop\n",
      "Name: SignName, dtype: object\n",
      "The top 5 possible class predicted by the neuralnetwork of the 9 th picture is\n",
      "\n",
      "1           Speed limit (30km/h)\n",
      "0           Speed limit (20km/h)\n",
      "5           Speed limit (80km/h)\n",
      "2           Speed limit (50km/h)\n",
      "6    End of speed limit (80km/h)\n",
      "Name: SignName, dtype: object\n",
      "The top 5 possible class predicted by the neuralnetwork of the 10 th picture is\n",
      "\n",
      "14                     Stop\n",
      "8     Speed limit (120km/h)\n",
      "4      Speed limit (70km/h)\n",
      "0      Speed limit (20km/h)\n",
      "38               Keep right\n",
      "Name: SignName, dtype: object\n"
     ]
    },
    {
     "data": {
      "image/png": "[encoded data removed]",
      "text/plain": [
       "<matplotlib.figure.Figure at 0x7fae02213080>"
      ]
     },
     "metadata": {
      "needs_background": "light"
     },
     "output_type": "display_data"
    }
   ],
   "source": [
    "with tf.Session() as sess:\n",
    "    saver.restore(sess, './lenet') \n",
    "    predict = sess.run(prediction,feed_dict={x:gray_pic_array})\n",
    "    top5_10 = sess.run(tf.nn.top_k(tf.constant(predict), k=5))\n",
    "print (top5_10)\n",
    "plt.figure\n",
    "for i in range(len(gray_pic_array)):\n",
    "    print ('The top 5 possible class predicted by the neuralnetwork of the',i+1,'th picture is\\n')\n",
    "    print (class_name[top5_10[1][i]])  \n",
    "    plt.subplot(10,2,2*i+1)\n",
    "    plt.imshow(test_picture_list[i])\n",
    "    plt.xticks(())\n",
    "    plt.yticks(())\n",
    "    plt.subplot(10,2,2*i+2)\n",
    "    plt.bar(csv_file['ClassId'],predict[i])"
   ]
  },
  {
   "cell_type": "markdown",
   "metadata": {},
   "source": [
    "#### Calculate the accuracy of the data from the web"
   ]
  },
  {
   "cell_type": "code",
   "execution_count": 23,
   "metadata": {},
   "outputs": [
    {
     "name": "stdout",
     "output_type": "stream",
     "text": [
      "Accuracy =  60 %\n"
     ]
    }
   ],
   "source": [
    "### Calculate the accuracy for these 5 new images. \n",
    "### For example, if the model predicted 1 out of 5 signs correctly, it's 20% accurate on these new images.\n",
    "##Calculate the accuracy of the prediction\n",
    "Correct_item_1 = 0\n",
    "for i in range(len(top5_10[1])):\n",
    "    if pic_label[i] ==top5_10[1][i][0]:\n",
    "        Correct_item_1 += 1\n",
    "\n",
    "Accuracy = Correct_item_1*10\n",
    "print (\"Accuracy = \",Accuracy,'%')"
   ]
  },
  {
   "cell_type": "markdown",
   "metadata": {},
   "source": [
    "### Project Writeup\n",
    "\n",
    "Once you have completed the code implementation, document your results in a project writeup using this [template](https://github.com/udacity/CarND-Traffic-Sign-Classifier-Project/blob/master/writeup_template.md) as a guide. The writeup can be in a markdown or pdf file. "
   ]
  },
  {
   "cell_type": "markdown",
   "metadata": {},
   "source": [
    "> **Note**: Once you have completed all of the code implementations and successfully answered each question above, you may finalize your work by exporting the iPython Notebook as an HTML document. You can do this by using the menu above and navigating to  \\n\",\n",
    "    \"**File -> Download as -> HTML (.html)**. Include the finished document along with this notebook as your submission."
   ]
  },
  {
   "cell_type": "markdown",
   "metadata": {},
   "source": [
    "---\n",
    "\n",
    "## Step 4 (Optional): Visualize the Neural Network's State with Test Images\n",
    "\n",
    " This Section is not required to complete but acts as an additional excersise for understaning the output of a neural network's weights. While neural networks can be a great learning device they are often referred to as a black box. We can understand what the weights of a neural network look like better by plotting their feature maps. After successfully training your neural network you can see what it's feature maps look like by plotting the output of the network's weight layers in response to a test stimuli image. From these plotted feature maps, it's possible to see what characteristics of an image the network finds interesting. For a sign, maybe the inner network feature maps react with high activation to the sign's boundary outline or to the contrast in the sign's painted symbol.\n",
    "\n",
    " Provided for you below is the function code that allows you to get the visualization output of any tensorflow weight layer you want. The inputs to the function should be a stimuli image, one used during training or a new one you provided, and then the tensorflow variable name that represents the layer's state during the training process, for instance if you wanted to see what the [LeNet lab's](https://classroom.udacity.com/nanodegrees/nd013/parts/fbf77062-5703-404e-b60c-95b78b2f3f9e/modules/6df7ae49-c61c-4bb2-a23e-6527e69209ec/lessons/601ae704-1035-4287-8b11-e2c2716217ad/concepts/d4aca031-508f-4e0b-b493-e7b706120f81) feature maps looked like for it's second convolutional layer you could enter conv2 as the tf_activation variable.\n",
    "\n",
    "For an example of what feature map outputs look like, check out NVIDIA's results in their paper [End-to-End Deep Learning for Self-Driving Cars](https://devblogs.nvidia.com/parallelforall/deep-learning-self-driving-cars/) in the section Visualization of internal CNN State. NVIDIA was able to show that their network's inner weights had high activations to road boundary lines by comparing feature maps from an image with a clear path to one without. Try experimenting with a similar test to show that your trained network's weights are looking for interesting features, whether it's looking at differences in feature maps from images with or without a sign, or even what feature maps look like in a trained network vs a completely untrained one on the same sign image.\n",
    "\n",
    "<figure>\n",
    " <img src=\"visualize_cnn.png\" width=\"380\" alt=\"Combined Image\" />\n",
    " <figcaption>\n",
    " <p></p> \n",
    " <p style=\"text-align: center;\"> Your output should look something like this (above)</p> \n",
    " </figcaption>\n",
    "</figure>\n",
    " <p></p> \n"
   ]
  },
  {
   "cell_type": "code",
   "execution_count": null,
   "metadata": {},
   "outputs": [],
   "source": [
    "### Visualize your network's feature maps here.\n",
    "### Feel free to use as many code cells as needed.\n",
    "\n",
    "# image_input: the test image being fed into the network to produce the feature maps\n",
    "# tf_activation: should be a tf variable name used during your training procedure that represents the calculated state of a specific weight layer\n",
    "# activation_min/max: can be used to view the activation contrast in more detail, by default matplot sets min and max to the actual min and max values of the output\n",
    "# plt_num: used to plot out multiple different weight feature map sets on the same block, just extend the plt number for each new feature map entry\n",
    "\n",
    "def outputFeatureMap(image_input, tf_activation, activation_min=-1, activation_max=-1 ,plt_num=1):\n",
    "    # Here make sure to preprocess your image_input in a way your network expects\n",
    "    # with size, normalization, ect if needed\n",
    "    # image_input =\n",
    "    # Note: x should be the same name as your network's tensorflow data placeholder variable\n",
    "    # If you get an error tf_activation is not defined it may be having trouble accessing the variable from inside a function\n",
    "    activation = tf_activation.eval(session=sess,feed_dict={x : image_input})\n",
    "    featuremaps = activation.shape[3]\n",
    "    plt.figure(plt_num, figsize=(15,15))\n",
    "    for featuremap in range(featuremaps):\n",
    "        plt.subplot(6,8, featuremap+1) # sets the number of feature maps to show on each row and column\n",
    "        plt.title('FeatureMap ' + str(featuremap)) # displays the feature map number\n",
    "        if activation_min != -1 & activation_max != -1:\n",
    "            plt.imshow(activation[0,:,:, featuremap], interpolation=\"nearest\", vmin =activation_min, vmax=activation_max, cmap=\"gray\")\n",
    "        elif activation_max != -1:\n",
    "            plt.imshow(activation[0,:,:, featuremap], interpolation=\"nearest\", vmax=activation_max, cmap=\"gray\")\n",
    "        elif activation_min !=-1:\n",
    "            plt.imshow(activation[0,:,:, featuremap], interpolation=\"nearest\", vmin=activation_min, cmap=\"gray\")\n",
    "        else:\n",
    "            plt.imshow(activation[0,:,:, featuremap], interpolation=\"nearest\", cmap=\"gray\")"
   ]
  }
 ],
 "metadata": {
  "anaconda-cloud": {},
  "kernelspec": {
   "display_name": "Python 3",
   "language": "python",
   "name": "python3"
  },
  "language_info": {
   "codemirror_mode": {
    "name": "ipython",
    "version": 3
   },
   "file_extension": ".py",
   "mimetype": "text/x-python",
   "name": "python",
   "nbconvert_exporter": "python",
   "pygments_lexer": "ipython3",
   "version": "3.6.3"
  }
 },
 "nbformat": 4,
 "nbformat_minor": 1
}
